{
 "cells": [
  {
   "cell_type": "markdown",
   "id": "e43797e5-ea8b-434d-ad89-1a827b1b6861",
   "metadata": {},
   "source": [
    "# Crystal Generation\n",
    "\n",
    "The very first step of ASSYST is the generation of random, periodic crystal structures."
   ]
  },
  {
   "cell_type": "markdown",
   "id": "e9e47cab-f580-4d47-bf6f-bc3874a019f1",
   "metadata": {},
   "source": [
    "## Imports"
   ]
  },
  {
   "cell_type": "code",
   "execution_count": 2,
   "id": "816b2d63-418b-474c-8d34-f98700460f69",
   "metadata": {
    "tags": []
   },
   "outputs": [],
   "source": [
    "from assyst.crystals import Formulas, sample_space_groups\n",
    "from assyst.plot import concentration_histogram, distance_histogram"
   ]
  },
  {
   "cell_type": "markdown",
   "id": "359570fe-12d4-4a41-af5e-d230674b447d",
   "metadata": {},
   "source": [
    "## Formulas\n",
    "\n",
    "The basic unit for structure generation in _ASSYST_ is a formula unit of a given material, such as:\n",
    "\n",
    "- Mg$_2$Ca\n",
    "- Mg$_4$Ca$_2$\n",
    "- and so on\n",
    "\n",
    "This specifies the number of atoms in a target structure and _ASSYST_ tries to generate as many different space groups of each of these as possible."
   ]
  },
  {
   "cell_type": "markdown",
   "id": "4f35f397-4fe4-49a3-8189-ff87b2230b3d",
   "metadata": {},
   "source": [
    "### Creation\n",
    "\n",
    "They can by manually constructed"
   ]
  },
  {
   "cell_type": "code",
   "execution_count": 14,
   "id": "d5e20370-502a-4e24-854d-9d25314e488d",
   "metadata": {
    "tags": []
   },
   "outputs": [],
   "source": [
    "mg = Formulas(\n",
    "    ({'Mg': 1}, {'Mg': 2}, {'Mg': 3}, {'Mg': 4})\n",
    ")"
   ]
  },
  {
   "cell_type": "code",
   "execution_count": 15,
   "id": "6854b2cb-9c81-4901-884c-d39ce4f33c75",
   "metadata": {
    "tags": []
   },
   "outputs": [],
   "source": [
    "mgca = Formulas( \n",
    "    ({'Mg': 2, 'Ca': 1}, {'Mg': 4, 'Ca': 2})\n",
    ")"
   ]
  },
  {
   "cell_type": "markdown",
   "id": "8d93c153-e983-412b-a367-f7a8289106d3",
   "metadata": {},
   "source": [
    "or with some helper methods"
   ]
  },
  {
   "cell_type": "code",
   "execution_count": 16,
   "id": "6d9570c8-016e-4444-b6b0-7e7bd9d9d74b",
   "metadata": {
    "tags": []
   },
   "outputs": [
    {
     "data": {
      "text/plain": [
       "Formulas(atoms=({'Mg': 1}, {'Mg': 2}, {'Mg': 3}, {'Mg': 4}))"
      ]
     },
     "execution_count": 16,
     "metadata": {},
     "output_type": "execute_result"
    }
   ],
   "source": [
    "Formulas.range('Mg', 1, 5)"
   ]
  },
  {
   "cell_type": "markdown",
   "id": "2c430357-c722-47e6-9524-1800ba50d2f1",
   "metadata": {},
   "source": [
    "### Operations"
   ]
  },
  {
   "cell_type": "code",
   "execution_count": 17,
   "id": "0e32f31e-15fd-4331-94d1-6a5b7cf87f5c",
   "metadata": {
    "tags": []
   },
   "outputs": [
    {
     "data": {
      "text/plain": [
       "Formulas(atoms=({'Mg': 1, 'Ca': 1}, {'Mg': 2, 'Ca': 2}))"
      ]
     },
     "execution_count": 17,
     "metadata": {},
     "output_type": "execute_result"
    }
   ],
   "source": [
    "Formulas.range('Mg', 1, 5) | Formulas.range('Ca', 1, 3)"
   ]
  },
  {
   "cell_type": "code",
   "execution_count": 11,
   "id": "d6340492-5d64-4db4-bc6c-baf01a5bfa50",
   "metadata": {
    "tags": []
   },
   "outputs": [
    {
     "data": {
      "text/plain": [
       "Formulas(atoms=({'Mg': 1, 'Ca': 1}, {'Mg': 1, 'Ca': 2}, {'Mg': 2, 'Ca': 1}, {'Mg': 2, 'Ca': 2}, {'Mg': 3, 'Ca': 1}, {'Mg': 3, 'Ca': 2}, {'Mg': 4, 'Ca': 1}, {'Mg': 4, 'Ca': 2}))"
      ]
     },
     "execution_count": 11,
     "metadata": {},
     "output_type": "execute_result"
    }
   ],
   "source": [
    "Formulas.range('Mg', 1, 5) * Formulas.range('Ca', 1, 3)"
   ]
  },
  {
   "cell_type": "code",
   "execution_count": 13,
   "id": "9babd7fd-3879-48f1-83ba-8b12ad038747",
   "metadata": {
    "tags": []
   },
   "outputs": [
    {
     "data": {
      "text/plain": [
       "Formulas(atoms=({'Mg': 1}, {'Mg': 2}, {'Mg': 3}, {'Mg': 4}, {'Ca': 1}, {'Ca': 2}))"
      ]
     },
     "execution_count": 13,
     "metadata": {},
     "output_type": "execute_result"
    }
   ],
   "source": [
    "Formulas.range('Mg', 1, 5) + Formulas.range('Ca', 1, 3)"
   ]
  },
  {
   "cell_type": "markdown",
   "id": "0f06ba47-5177-4454-affe-9f9549a8e555",
   "metadata": {},
   "source": [
    "## Sampling\n",
    "\n",
    "Once the formulas are defined the structures can be generated."
   ]
  },
  {
   "cell_type": "code",
   "execution_count": 19,
   "id": "37a7e086-eb10-4c14-8988-182e3208562b",
   "metadata": {
    "tags": []
   },
   "outputs": [],
   "source": [
    "atoms = sample_space_groups(\n",
    "        formulas = mgca,\n",
    ")"
   ]
  },
  {
   "cell_type": "markdown",
   "id": "0599caca-3240-420c-8bb0-39e3eb7d8d6e",
   "metadata": {},
   "source": [
    "The sampler returns a generator, the actual structures can be obtained by collecting it in a list."
   ]
  },
  {
   "cell_type": "code",
   "execution_count": 21,
   "id": "70de1689-8bf4-4473-85ee-ef687e7fa871",
   "metadata": {
    "tags": []
   },
   "outputs": [
    {
     "data": {
      "application/vnd.jupyter.widget-view+json": {
       "model_id": "c23475693f5b4690bc941f56bc776244",
       "version_major": 2,
       "version_minor": 0
      },
      "text/plain": [
       "  0%|          | 0/2 [00:00<?, ?it/s]"
      ]
     },
     "metadata": {},
     "output_type": "display_data"
    },
    {
     "data": {
      "application/vnd.jupyter.widget-view+json": {
       "model_id": "e5e40bbc80114f4fa4a9862261f4b785",
       "version_major": 2,
       "version_minor": 0
      },
      "text/plain": [
       "Spacegroups:   0%|          | 0/230 [00:00<?, ?it/s]"
      ]
     },
     "metadata": {},
     "output_type": "display_data"
    },
    {
     "data": {
      "application/vnd.jupyter.widget-view+json": {
       "model_id": "3dca8b316a3049109469dd8ee92cba1e",
       "version_major": 2,
       "version_minor": 0
      },
      "text/plain": [
       "Spacegroups:   0%|          | 0/230 [00:00<?, ?it/s]"
      ]
     },
     "metadata": {},
     "output_type": "display_data"
    }
   ],
   "source": [
    "atoms = list(atoms)"
   ]
  },
  {
   "cell_type": "markdown",
   "id": "bd5af068-ae6b-4d29-becd-4924d0036d45",
   "metadata": {
    "tags": []
   },
   "source": [
    "### Visualization"
   ]
  },
  {
   "cell_type": "code",
   "execution_count": 33,
   "id": "b4df6614-4391-42e3-8376-fb6a93ecbac2",
   "metadata": {
    "tags": []
   },
   "outputs": [
    {
     "data": {
      "image/png": "[encoded data removed]",
      "text/plain": [
       "<Figure size 640x480 with 1 Axes>"
      ]
     },
     "metadata": {},
     "output_type": "display_data"
    }
   ],
   "source": [
    "distance_histogram(atoms, rmax=10, reduce=lambda x: x);"
   ]
  },
  {
   "cell_type": "code",
   "execution_count": 24,
   "id": "62f034ff-4e9f-4e9a-99df-0c424a5bfd75",
   "metadata": {
    "tags": []
   },
   "outputs": [
    {
     "data": {
      "image/png": "[encoded data removed]",
      "text/plain": [
       "<Figure size 640x480 with 1 Axes>"
      ]
     },
     "metadata": {},
     "output_type": "display_data"
    }
   ],
   "source": [
    "concentration_histogram(atoms)"
   ]
  },
  {
   "cell_type": "markdown",
   "id": "ec3980a0-b497-4425-b21d-3235eea5c647",
   "metadata": {},
   "source": [
    "### Advanced Sampling"
   ]
  },
  {
   "cell_type": "markdown",
   "id": "dec40662-ce7d-411e-9448-18fdd2679c1a",
   "metadata": {},
   "source": [
    "The sampling function supports a few more options for advanced sampling."
   ]
  },
  {
   "cell_type": "code",
   "execution_count": 18,
   "id": "e87811b3-c7ef-4794-b9fa-fa730908b8a5",
   "metadata": {
    "tags": []
   },
   "outputs": [
    {
     "data": {
      "text/plain": [
       "\u001b[31mSignature:\u001b[39m\n",
       "sample_space_groups(\n",
       "    formulas: Union[assyst.crystals.Formulas, Iterable[dict[str, int]]],\n",
       "    spacegroups: Union[list[int], tuple[int, ...], Iterable[int], NoneType] = \u001b[38;5;28;01mNone\u001b[39;00m,\n",
       "    min_atoms: int = \u001b[32m1\u001b[39m,\n",
       "    max_atoms: int = \u001b[32m10\u001b[39m,\n",
       "    max_structures: int | \u001b[38;5;28;01mNone\u001b[39;00m = \u001b[38;5;28;01mNone\u001b[39;00m,\n",
       "    dim: Literal[\u001b[32m0\u001b[39m, \u001b[32m1\u001b[39m, \u001b[32m2\u001b[39m, \u001b[32m3\u001b[39m] = \u001b[32m3\u001b[39m,\n",
       "    tolerance: Union[Literal[\u001b[33m'metallic'\u001b[39m, \u001b[33m'atomic'\u001b[39m, \u001b[33m'molecular'\u001b[39m, \u001b[33m'vdW'\u001b[39m], assyst.filters.DistanceFilter, dict] = \u001b[33m'metallic'\u001b[39m,\n",
       ") -> Iterator[ase.atoms.Atoms]\n",
       "\u001b[31mDocstring:\u001b[39m\n",
       "Create symmetric random structures.\n",
       "\n",
       "Args:\n",
       "    formulas (Formulas or iterable of dicts from str to int): list of chemical formulas\n",
       "    spacegroups (list of int): which space groups to generate\n",
       "    max_atoms (int): do not generate structures larger than this\n",
       "    max_structures (int): generate at most this many structures\n",
       "    dim (one of 0, 1, 2, or 3): the dimensionality of the structures to generate; if lower than 3 the code generates\n",
       "        samples no longer from space groups, but from the subperiodic layer, rod, or point groups.\n",
       "    tolerance (str, dict of elements to radii):\n",
       "        specifies minimum allowed distances between atoms in generated structures;\n",
       "        if str then it should be one values understood by :class:`pyxtal.tolerace.Tol_matrix`;\n",
       "        if dict each value gives the minimum *radius* allowed for an atom, whether a given distance is allowed then\n",
       "        depends on the sum of the radii of the respective elements\n",
       "\n",
       "Yields:\n",
       "    `Atoms`: random symmetric crystal structures\n",
       "\u001b[31mFile:\u001b[39m      ~/science/phd/dev/assyst/assyst/crystals.py\n",
       "\u001b[31mType:\u001b[39m      function"
      ]
     },
     "metadata": {},
     "output_type": "display_data"
    }
   ],
   "source": [
    "sample_space_groups?"
   ]
  }
 ],
 "metadata": {
  "kernelspec": {
   "display_name": "Python 3 (ipykernel)",
   "language": "python",
   "name": "python3"
  },
  "language_info": {
   "codemirror_mode": {
    "name": "ipython",
    "version": 3
   },
   "file_extension": ".py",
   "mimetype": "text/x-python",
   "name": "python",
   "nbconvert_exporter": "python",
   "pygments_lexer": "ipython3",
   "version": "3.12.0"
  },
  "widgets": {
   "application/vnd.jupyter.widget-state+json": {
    "state": {
     "065344242d3344f98191d07fce45de9a": {
      "model_module": "@jupyter-widgets/base",
      "model_module_version": "2.0.0",
      "model_name": "LayoutModel",
      "state": {}
     },
     "06e66484cdef48afa4bafbdd719d3637": {
      "model_module": "@jupyter-widgets/controls",
      "model_module_version": "2.0.0",
      "model_name": "FloatProgressModel",
      "state": {
       "bar_style": "success",
       "layout": "IPY_MODEL_4be67e2775ca4fedb0fe8ffe8c994444",
       "max": 230,
       "style": "IPY_MODEL_455a5d0d8f8c4ae5a107400367792663",
       "value": 230
      }
     },
     "2122162ece724b0aa879115594e13922": {
      "model_module": "@jupyter-widgets/controls",
      "model_module_version": "2.0.0",
      "model_name": "HTMLStyleModel",
      "state": {
       "description_width": "",
       "font_size": null,
       "text_color": null
      }
     },
     "2e2460ee5586475882100cb43aba92ac": {
      "model_module": "@jupyter-widgets/base",
      "model_module_version": "2.0.0",
      "model_name": "LayoutModel",
      "state": {}
     },
     "39879a17639a4a18b4351ac642714cf0": {
      "model_module": "@jupyter-widgets/controls",
      "model_module_version": "2.0.0",
      "model_name": "HTMLStyleModel",
      "state": {
       "description_width": "",
       "font_size": null,
       "text_color": null
      }
     },
     "3c4b34044e5a4b58b56d8dcb7653aa33": {
      "model_module": "@jupyter-widgets/controls",
      "model_module_version": "2.0.0",
      "model_name": "HTMLStyleModel",
      "state": {
       "description_width": "",
       "font_size": null,
       "text_color": null
      }
     },
     "3dca8b316a3049109469dd8ee92cba1e": {
      "model_module": "@jupyter-widgets/controls",
      "model_module_version": "2.0.0",
      "model_name": "HBoxModel",
      "state": {
       "children": [
        "IPY_MODEL_bc87f0b6483c4b3ba09c8f31b99673ac",
        "IPY_MODEL_607bc49a5f844e98b6551d9aeec40813",
        "IPY_MODEL_7a27df31ae754f02a91c66ea733690fc"
       ],
       "layout": "IPY_MODEL_065344242d3344f98191d07fce45de9a"
      }
     },
     "455a5d0d8f8c4ae5a107400367792663": {
      "model_module": "@jupyter-widgets/controls",
      "model_module_version": "2.0.0",
      "model_name": "ProgressStyleModel",
      "state": {
       "description_width": ""
      }
     },
     "49183b54104e428f99286706187e1dd8": {
      "model_module": "@jupyter-widgets/controls",
      "model_module_version": "2.0.0",
      "model_name": "ProgressStyleModel",
      "state": {
       "description_width": ""
      }
     },
     "4be67e2775ca4fedb0fe8ffe8c994444": {
      "model_module": "@jupyter-widgets/base",
      "model_module_version": "2.0.0",
      "model_name": "LayoutModel",
      "state": {}
     },
     "4fcfaf661d02432bb56995dae9cb8976": {
      "model_module": "@jupyter-widgets/controls",
      "model_module_version": "2.0.0",
      "model_name": "HTMLModel",
      "state": {
       "layout": "IPY_MODEL_2e2460ee5586475882100cb43aba92ac",
       "style": "IPY_MODEL_3c4b34044e5a4b58b56d8dcb7653aa33",
       "value": "Spacegroups: 100%"
      }
     },
     "55f4197db89945ac98b4f0ee9c8243e5": {
      "model_module": "@jupyter-widgets/controls",
      "model_module_version": "2.0.0",
      "model_name": "HTMLModel",
      "state": {
       "layout": "IPY_MODEL_c3e6488f815a4133b066116c464c0f1c",
       "style": "IPY_MODEL_39879a17639a4a18b4351ac642714cf0",
       "value": " 230/230 [00:01&lt;00:00, 174.21it/s]"
      }
     },
     "5e7db005181a4e2498704cb7ac32457c": {
      "model_module": "@jupyter-widgets/controls",
      "model_module_version": "2.0.0",
      "model_name": "FloatProgressModel",
      "state": {
       "bar_style": "success",
       "layout": "IPY_MODEL_aa848ae06b03435cad916c2a2f0fc6b4",
       "max": 2,
       "style": "IPY_MODEL_49183b54104e428f99286706187e1dd8",
       "value": 2
      }
     },
     "5f3853edc4d74be2aa03cf6164496780": {
      "model_module": "@jupyter-widgets/controls",
      "model_module_version": "2.0.0",
      "model_name": "HTMLStyleModel",
      "state": {
       "description_width": "",
       "font_size": null,
       "text_color": null
      }
     },
     "607bc49a5f844e98b6551d9aeec40813": {
      "model_module": "@jupyter-widgets/controls",
      "model_module_version": "2.0.0",
      "model_name": "FloatProgressModel",
      "state": {
       "bar_style": "success",
       "layout": "IPY_MODEL_b3c8d8132192480c8e31005801d9330c",
       "max": 230,
       "style": "IPY_MODEL_dd09d546dc3048dda3210349278ced51",
       "value": 230
      }
     },
     "7a27df31ae754f02a91c66ea733690fc": {
      "model_module": "@jupyter-widgets/controls",
      "model_module_version": "2.0.0",
      "model_name": "HTMLModel",
      "state": {
       "layout": "IPY_MODEL_942acb34e30647cf8f8531911a2e4a44",
       "style": "IPY_MODEL_5f3853edc4d74be2aa03cf6164496780",
       "value": " 230/230 [00:06&lt;00:00, 26.32it/s]"
      }
     },
     "8eb32d62af1e417da38d29436d3095bd": {
      "model_module": "@jupyter-widgets/base",
      "model_module_version": "2.0.0",
      "model_name": "LayoutModel",
      "state": {}
     },
     "910713da489d4c3e9eb3b1f17d33292d": {
      "model_module": "@jupyter-widgets/base",
      "model_module_version": "2.0.0",
      "model_name": "LayoutModel",
      "state": {}
     },
     "942acb34e30647cf8f8531911a2e4a44": {
      "model_module": "@jupyter-widgets/base",
      "model_module_version": "2.0.0",
      "model_name": "LayoutModel",
      "state": {}
     },
     "a0aaa3471c0d4a5da93ad72778958fb5": {
      "model_module": "@jupyter-widgets/base",
      "model_module_version": "2.0.0",
      "model_name": "LayoutModel",
      "state": {}
     },
     "a8a206210ad4455e8719bae38077305a": {
      "model_module": "@jupyter-widgets/controls",
      "model_module_version": "2.0.0",
      "model_name": "HTMLModel",
      "state": {
       "layout": "IPY_MODEL_a0aaa3471c0d4a5da93ad72778958fb5",
       "style": "IPY_MODEL_ae1104c492054630b4b482ad0a4919ae",
       "value": " 2/2 [00:08&lt;00:00,  4.62s/it]"
      }
     },
     "aa848ae06b03435cad916c2a2f0fc6b4": {
      "model_module": "@jupyter-widgets/base",
      "model_module_version": "2.0.0",
      "model_name": "LayoutModel",
      "state": {}
     },
     "ae1104c492054630b4b482ad0a4919ae": {
      "model_module": "@jupyter-widgets/controls",
      "model_module_version": "2.0.0",
      "model_name": "HTMLStyleModel",
      "state": {
       "description_width": "",
       "font_size": null,
       "text_color": null
      }
     },
     "b3c8d8132192480c8e31005801d9330c": {
      "model_module": "@jupyter-widgets/base",
      "model_module_version": "2.0.0",
      "model_name": "LayoutModel",
      "state": {}
     },
     "b3e373d2cde94ff48dd72d3a9357fcda": {
      "model_module": "@jupyter-widgets/base",
      "model_module_version": "2.0.0",
      "model_name": "LayoutModel",
      "state": {}
     },
     "bc87f0b6483c4b3ba09c8f31b99673ac": {
      "model_module": "@jupyter-widgets/controls",
      "model_module_version": "2.0.0",
      "model_name": "HTMLModel",
      "state": {
       "layout": "IPY_MODEL_8eb32d62af1e417da38d29436d3095bd",
       "style": "IPY_MODEL_ec491164a79b4c78b112a67e5ebae620",
       "value": "Spacegroups: 100%"
      }
     },
     "c23475693f5b4690bc941f56bc776244": {
      "model_module": "@jupyter-widgets/controls",
      "model_module_version": "2.0.0",
      "model_name": "HBoxModel",
      "state": {
       "children": [
        "IPY_MODEL_c74b171069f44beba812bce2c12ee28e",
        "IPY_MODEL_5e7db005181a4e2498704cb7ac32457c",
        "IPY_MODEL_a8a206210ad4455e8719bae38077305a"
       ],
       "layout": "IPY_MODEL_b3e373d2cde94ff48dd72d3a9357fcda"
      }
     },
     "c3e6488f815a4133b066116c464c0f1c": {
      "model_module": "@jupyter-widgets/base",
      "model_module_version": "2.0.0",
      "model_name": "LayoutModel",
      "state": {}
     },
     "c74b171069f44beba812bce2c12ee28e": {
      "model_module": "@jupyter-widgets/controls",
      "model_module_version": "2.0.0",
      "model_name": "HTMLModel",
      "state": {
       "layout": "IPY_MODEL_e9d824ae84a0451a8f9032570de98918",
       "style": "IPY_MODEL_2122162ece724b0aa879115594e13922",
       "value": "Mg4Ca2: 100%"
      }
     },
     "dd09d546dc3048dda3210349278ced51": {
      "model_module": "@jupyter-widgets/controls",
      "model_module_version": "2.0.0",
      "model_name": "ProgressStyleModel",
      "state": {
       "description_width": ""
      }
     },
     "e5e40bbc80114f4fa4a9862261f4b785": {
      "model_module": "@jupyter-widgets/controls",
      "model_module_version": "2.0.0",
      "model_name": "HBoxModel",
      "state": {
       "children": [
        "IPY_MODEL_4fcfaf661d02432bb56995dae9cb8976",
        "IPY_MODEL_06e66484cdef48afa4bafbdd719d3637",
        "IPY_MODEL_55f4197db89945ac98b4f0ee9c8243e5"
       ],
       "layout": "IPY_MODEL_910713da489d4c3e9eb3b1f17d33292d"
      }
     },
     "e9d824ae84a0451a8f9032570de98918": {
      "model_module": "@jupyter-widgets/base",
      "model_module_version": "2.0.0",
      "model_name": "LayoutModel",
      "state": {}
     },
     "ec491164a79b4c78b112a67e5ebae620": {
      "model_module": "@jupyter-widgets/controls",
      "model_module_version": "2.0.0",
      "model_name": "HTMLStyleModel",
      "state": {
       "description_width": "",
       "font_size": null,
       "text_color": null
      }
     }
    },
    "version_major": 2,
    "version_minor": 0
   }
  }
 },
 "nbformat": 4,
 "nbformat_minor": 5
}
