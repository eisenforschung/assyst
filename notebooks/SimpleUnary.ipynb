{
 "cells": [
  {
   "cell_type": "markdown",
   "id": "50a3c5ff-a94d-4b00-9bc5-ddbe757ff64b",
   "metadata": {
    "tags": []
   },
   "source": [
    "# Copper\n",
    "\n",
    "As the simplest full example, in this notebook we create a tiny training set for elemental copper."
   ]
  },
  {
   "cell_type": "markdown",
   "id": "d4bf7d9b-f1dc-4de3-9c78-4fb0509e81a6",
   "metadata": {},
   "source": [
    "## Prelude"
   ]
  },
  {
   "cell_type": "code",
   "execution_count": 1,
   "id": "c4f834dd-be4d-4fda-8e56-b1c164e5c9c7",
   "metadata": {
    "tags": []
   },
   "outputs": [],
   "source": [
    "from assyst.crystals import Formulas, sample_space_groups\n",
    "from assyst.filters import DistanceFilter, AspectFilter, VolumeFilter\n",
    "from assyst.relax import Relax, VolumeRelax, FullRelax, relax\n",
    "from assyst.perturbations import RandomChoice, Rattle, Stretch, apply_perturbations"
   ]
  },
  {
   "cell_type": "code",
   "execution_count": 2,
   "id": "71ee3c6c-e67b-463d-8bcd-440cfcf1d8c2",
   "metadata": {},
   "outputs": [],
   "source": [
    "import numpy as np"
   ]
  },
  {
   "cell_type": "code",
   "execution_count": 3,
   "id": "bf6a7d63-544e-4806-b558-50cffeb80d58",
   "metadata": {},
   "outputs": [],
   "source": [
    "import pandas as pd"
   ]
  },
  {
   "cell_type": "code",
   "execution_count": 4,
   "id": "dc4b85df-3f31-4f73-91e9-12acb3225967",
   "metadata": {},
   "outputs": [],
   "source": [
    "from tqdm.auto import tqdm"
   ]
  },
  {
   "cell_type": "code",
   "execution_count": 5,
   "id": "561efaac-15d7-4ec5-ac08-8841febfabf4",
   "metadata": {},
   "outputs": [],
   "source": [
    "import pickle"
   ]
  },
  {
   "cell_type": "code",
   "execution_count": 6,
   "id": "1721400f-1d18-48f5-b60e-5d2f1212747e",
   "metadata": {},
   "outputs": [],
   "source": [
    "import matplotlib.pyplot as plt"
   ]
  },
  {
   "cell_type": "markdown",
   "id": "2c80a83a-8d4f-4049-8b06-f69754bcb4ad",
   "metadata": {},
   "source": [
    "### Options"
   ]
  },
  {
   "cell_type": "code",
   "execution_count": 7,
   "id": "45659b6a-60b4-43b7-9f40-33647af55ab0",
   "metadata": {},
   "outputs": [],
   "source": [
    "# maximum number of atoms to generate for the training data\n",
    "# 2 atoms is very low, chosen here only to keep the example fast\n",
    "# 10 is a usual value, leading to ~10k structures in the final training data set\n",
    "max_num = 2"
   ]
  },
  {
   "cell_type": "code",
   "execution_count": 8,
   "id": "bd71cb6d-51e7-4493-a51b-74d64158125d",
   "metadata": {},
   "outputs": [],
   "source": [
    "!mkdir -p Unary/{max_num}"
   ]
  },
  {
   "attachments": {
    "9813a77f-63ac-489a-8718-4441a944c743.png": {
     "image/png": "[encoded data removed]"
    }
   },
   "cell_type": "markdown",
   "id": "817893a3-77a4-4684-934b-7166bddcf652",
   "metadata": {},
   "source": [
    "### Reference Potential\n",
    "\n",
    "Simple example potential to have a fast reference to relax structures and generate training data.\n",
    "\n",
    "![image.png](attachment:9813a77f-63ac-489a-8718-4441a944c743.png)"
   ]
  },
  {
   "cell_type": "code",
   "execution_count": 9,
   "id": "911018d4-3b9b-4aa6-9165-8616f2d924da",
   "metadata": {},
   "outputs": [],
   "source": [
    "from ase.calculators.morse import MorsePotential"
   ]
  },
  {
   "cell_type": "markdown",
   "id": "d2b3a8cb-73ee-49e5-a86d-1bfabd9ea91f",
   "metadata": {},
   "source": [
    "The values are chosen here so that they roughly reproduce Copper's lattice parameter."
   ]
  },
  {
   "cell_type": "code",
   "execution_count": 10,
   "id": "795e8622-2047-4be8-8b66-013b154d6d6c",
   "metadata": {},
   "outputs": [],
   "source": [
    "reference = MorsePotential(epsilon=.3, r0=2.55265548*1.10619396, rho0=4)"
   ]
  },
  {
   "cell_type": "markdown",
   "id": "8882157e-860e-480c-92d2-c7ae452aa3f9",
   "metadata": {},
   "source": [
    "Another good choice to play around with are the universal potentials based on the graph ACE models.\n",
    "\n",
    "For this to work you'll need to install the `tensorpotential` PyPI package."
   ]
  },
  {
   "cell_type": "code",
   "execution_count": 11,
   "id": "66cdced4-1291-4ba9-8d4b-8748bf45c936",
   "metadata": {},
   "outputs": [],
   "source": [
    "from assyst.calculators import Grace"
   ]
  },
  {
   "cell_type": "code",
   "execution_count": 12,
   "id": "0f68d016-33fa-4410-904d-da264904d8af",
   "metadata": {},
   "outputs": [
    {
     "data": {
      "text/plain": [
       "\u001b[31mInit signature:\u001b[39m Grace(model: str = \u001b[33m'GRACE-FS-OAM'\u001b[39m) -> \u001b[38;5;28;01mNone\u001b[39;00m\n",
       "\u001b[31mDocstring:\u001b[39m     \n",
       "Universal Graph Atomic Cluster Expansion models.\n",
       "\n",
       ".. attention::\n",
       "    This class needs additional dependencies!\n",
       "    Install `tensorpotential` from `PyPI <https://pypi.org/project/tensorpotential/>`__.\n",
       "\u001b[31mFile:\u001b[39m           ~/science/phd/dev/assyst/assyst/calculators.py\n",
       "\u001b[31mType:\u001b[39m           ABCMeta\n",
       "\u001b[31mSubclasses:\u001b[39m     "
      ]
     },
     "metadata": {},
     "output_type": "display_data"
    }
   ],
   "source": [
    "Grace?"
   ]
  },
  {
   "cell_type": "markdown",
   "id": "9925401b-461d-48e2-91f3-1d0e62d16406",
   "metadata": {},
   "source": [
    "## 1. Sampling Random Strucxtures\n",
    "\n",
    "The first step in ASSYST: generation of random structures while prescribing all possible bulk symmetries."
   ]
  },
  {
   "cell_type": "code",
   "execution_count": 13,
   "id": "938e5453-fffe-443a-ba98-85abf1a43745",
   "metadata": {},
   "outputs": [],
   "source": [
    "fs = Formulas.range('Cu', max_num + 1)"
   ]
  },
  {
   "cell_type": "code",
   "execution_count": 14,
   "id": "6d8b0871-d7cd-4136-8f3d-2db9c8310dd7",
   "metadata": {},
   "outputs": [
    {
     "data": {
      "text/plain": [
       "Formulas(atoms=({'Cu': 0}, {'Cu': 1}, {'Cu': 2}))"
      ]
     },
     "execution_count": 14,
     "metadata": {},
     "output_type": "execute_result"
    }
   ],
   "source": [
    "fs"
   ]
  },
  {
   "cell_type": "code",
   "execution_count": 15,
   "id": "99e1430b-6325-44a5-87bd-6c0a91d85e22",
   "metadata": {
    "scrolled": true
   },
   "outputs": [
    {
     "data": {
      "application/vnd.jupyter.widget-view+json": {
       "model_id": "c0ef59e4a0504281a7750d406c24d828",
       "version_major": 2,
       "version_minor": 0
      },
      "text/plain": [
       "  0%|          | 0/3 [00:00<?, ?it/s]"
      ]
     },
     "metadata": {},
     "output_type": "display_data"
    },
    {
     "data": {
      "application/vnd.jupyter.widget-view+json": {
       "model_id": "dca59185ac584675b442aac4ee7be1fa",
       "version_major": 2,
       "version_minor": 0
      },
      "text/plain": [
       "Spacegroups:   0%|          | 0/230 [00:00<?, ?it/s]"
      ]
     },
     "metadata": {},
     "output_type": "display_data"
    },
    {
     "data": {
      "application/vnd.jupyter.widget-view+json": {
       "model_id": "4d36905262c149f3a1f231407c14055b",
       "version_major": 2,
       "version_minor": 0
      },
      "text/plain": [
       "Spacegroups:   0%|          | 0/230 [00:00<?, ?it/s]"
      ]
     },
     "metadata": {},
     "output_type": "display_data"
    }
   ],
   "source": [
    "spg = list(filter(\n",
    "    # without any constraints pyxtal sometimes generates strange unit cells, \n",
    "    # filter out any that have c/a > 6 as an empirical threshold\n",
    "    AspectFilter(6), \n",
    "    sample_space_groups(\n",
    "        fs, \n",
    "        # generate all possible space groups numbered from 1 to 230\n",
    "        spacegroups=range(1,230+1), \n",
    "        max_atoms=max_num\n",
    "    )\n",
    "))"
   ]
  },
  {
   "cell_type": "code",
   "execution_count": 16,
   "id": "b5deb726-cde3-410c-8ffb-5ee9499403c0",
   "metadata": {},
   "outputs": [
    {
     "data": {
      "text/plain": [
       "169"
      ]
     },
     "execution_count": 16,
     "metadata": {},
     "output_type": "execute_result"
    }
   ],
   "source": [
    "len(spg)"
   ]
  },
  {
   "cell_type": "markdown",
   "id": "338234e0-ee2c-4d49-b06a-a297099ea601",
   "metadata": {},
   "source": [
    "### Save"
   ]
  },
  {
   "cell_type": "code",
   "execution_count": 17,
   "id": "651f852c-77df-4141-bf0e-4116b4894330",
   "metadata": {},
   "outputs": [],
   "source": [
    "with open(f\"Unary/{max_num}/spg.pckl\", 'bw') as f:\n",
    "    pickle.dump(spg, f)"
   ]
  },
  {
   "cell_type": "markdown",
   "id": "5f1b03d8-a1f4-4787-adb0-a89b8fbb688b",
   "metadata": {},
   "source": [
    "## 2. Relaxing Configurations\n",
    "\n",
    "ASSYST seeks to find the important pockets in a materials' PES by applying a series of relaxation steps.\n",
    "They can be specified by `Relax` and its subclasses."
   ]
  },
  {
   "cell_type": "code",
   "execution_count": 18,
   "id": "f058b625-7719-40c7-8637-ffa4aa954ff1",
   "metadata": {},
   "outputs": [
    {
     "name": "stdout",
     "output_type": "stream",
     "text": [
      "Object `ax.Relax` not found.\n"
     ]
    }
   ],
   "source": [
    "ax.Relax?"
   ]
  },
  {
   "cell_type": "markdown",
   "id": "6201d760-1f2a-40a7-b2a4-fc279278e330",
   "metadata": {},
   "source": [
    "In the ASSYST paper we use a volume relaxation and a full internal and cell shape relaxation step that I call here `VolMin` and `AllMin`."
   ]
  },
  {
   "cell_type": "code",
   "execution_count": 19,
   "id": "95641b7d-2da7-4a02-b152-424303742a6b",
   "metadata": {},
   "outputs": [],
   "source": [
    "volset = VolumeRelax(max_steps=100, force_tolerance=1e-3)"
   ]
  },
  {
   "cell_type": "code",
   "execution_count": 20,
   "id": "5be3fd73-60cf-4d91-af31-b0bd1107fff7",
   "metadata": {},
   "outputs": [],
   "source": [
    "allset = FullRelax(max_steps=100, force_tolerance=1e-3)"
   ]
  },
  {
   "cell_type": "markdown",
   "id": "8803af2d-09e9-47d9-a7f9-1c4b239f6219",
   "metadata": {},
   "source": [
    "Some more experimental relaxation settings are defined in `assyst.relax`, e.g. options to relax only the cell shape or placing constraints on the symmetry."
   ]
  },
  {
   "cell_type": "markdown",
   "id": "ece7dfc1-e283-4242-98a6-5c9e0c3a4eaa",
   "metadata": {},
   "source": [
    "In practice, these relaxations are carried out using DFT with low convergence settings.  To speed up this example,\n",
    "I use here a Morse Potential calculator from ASE, but interfaces to production quality DFT codes exist as well and could be dropped in here."
   ]
  },
  {
   "cell_type": "code",
   "execution_count": 21,
   "id": "f78459ca-cd46-4515-be59-1ae8efbb0eff",
   "metadata": {},
   "outputs": [
    {
     "data": {
      "application/vnd.jupyter.widget-view+json": {
       "model_id": "cce634478ccf45d287849aa8ec0b8b34",
       "version_major": 2,
       "version_minor": 0
      },
      "text/plain": [
       "  0%|          | 0/169 [00:00<?, ?it/s]"
      ]
     },
     "metadata": {},
     "output_type": "display_data"
    },
    {
     "name": "stdout",
     "output_type": "stream",
     "text": [
      "CPU times: user 1min 53s, sys: 42.8 s, total: 2min 36s\n",
      "Wall time: 31.3 s\n"
     ]
    }
   ],
   "source": [
    "%%time\n",
    "volmin = list(relax(volset, reference, tqdm(spg)))"
   ]
  },
  {
   "cell_type": "code",
   "execution_count": 22,
   "id": "6d72d820-6278-42a8-be71-f1417c211e32",
   "metadata": {
    "scrolled": true
   },
   "outputs": [
    {
     "data": {
      "application/vnd.jupyter.widget-view+json": {
       "model_id": "56acb5f63b4446cbb7c6c96e8671492b",
       "version_major": 2,
       "version_minor": 0
      },
      "text/plain": [
       "  0%|          | 0/169 [00:00<?, ?it/s]"
      ]
     },
     "metadata": {},
     "output_type": "display_data"
    }
   ],
   "source": [
    "allmin = list(relax(allset, reference, tqdm(volmin)))"
   ]
  },
  {
   "cell_type": "markdown",
   "id": "fa0bd05a-8567-473f-86a0-2568c90428e3",
   "metadata": {},
   "source": [
    "### Save"
   ]
  },
  {
   "cell_type": "code",
   "execution_count": 23,
   "id": "f6d231ac-3486-443b-af5d-1e19e6d67234",
   "metadata": {},
   "outputs": [],
   "source": [
    "with open(f'Unary/{max_num}/volmin.pckl', 'wb') as f:\n",
    "    pickle.dump(volmin, f)\n",
    "with open(f'Unary/{max_num}/allmin.pckl', 'wb') as f:\n",
    "    pickle.dump(allmin, f)"
   ]
  },
  {
   "cell_type": "markdown",
   "id": "0f0a03be-e8c9-47db-aa12-70b3fb9ba0f4",
   "metadata": {},
   "source": [
    "## 3. Random Perturbations\n",
    "\n",
    "Final step in ASSYST: generating random configurations around the minima identified previously.\n",
    "\n",
    "Apply the three types of random perturbations described in the ASSYST paper:\n",
    "1. mostly positional noise with some cell changes\n",
    "2. mostly hydrostatic cell changes\n",
    "3. mostly shear cell changes\n",
    "\n",
    "The later are combined to favour hydrostatic changes a bit more with `RandomChoice`.\n",
    "The final list `mods` contains function-like objects that are applied to each fully minimized structure resulting from the previous steps.  `DistanceFilter` ensures that no structures contain atoms that are too close as a result of these modification."
   ]
  },
  {
   "cell_type": "code",
   "execution_count": 24,
   "id": "8df9f86e-94fc-4869-a15b-37f9c06a281a",
   "metadata": {},
   "outputs": [],
   "source": [
    "rattle = Rattle(.25) + Stretch(hydro=.05, shear=0.005)\n",
    "hydro = Stretch(hydro=.80, shear=.05)\n",
    "shear = Stretch(hydro=.05, shear=.20)\n",
    "stretch = RandomChoice(hydro, shear, .7)\n",
    "mods = 4*[rattle] + 4*[stretch]"
   ]
  },
  {
   "cell_type": "markdown",
   "id": "b8d1eaf7-425b-4565-b90e-d4298e237821",
   "metadata": {},
   "source": [
    "The settings above reproduce the so far published training sets, but may be optimized or played with."
   ]
  },
  {
   "cell_type": "code",
   "execution_count": 25,
   "id": "21bacab1-1cec-4802-bf10-200eb7a529c0",
   "metadata": {},
   "outputs": [
    {
     "name": "stdout",
     "output_type": "stream",
     "text": [
      "CPU times: user 1.25 s, sys: 958 ms, total: 2.21 s\n",
      "Wall time: 701 ms\n"
     ]
    }
   ],
   "source": [
    "%%time\n",
    "random = list(apply_perturbations(allmin, mods, filters=[DistanceFilter({'Cu': 1})]))"
   ]
  },
  {
   "cell_type": "code",
   "execution_count": 26,
   "id": "584bff83-4a3a-47db-b661-2d81ceef52f0",
   "metadata": {},
   "outputs": [
    {
     "data": {
      "text/plain": [
       "1040"
      ]
     },
     "execution_count": 26,
     "metadata": {},
     "output_type": "execute_result"
    }
   ],
   "source": [
    "len(random)"
   ]
  },
  {
   "cell_type": "markdown",
   "id": "d070b0c5-5fe6-48ab-89fe-26f1a32766c2",
   "metadata": {},
   "source": [
    "### Save"
   ]
  },
  {
   "cell_type": "code",
   "execution_count": 27,
   "id": "0961a240-c6af-4a8a-b474-bc39e7f97818",
   "metadata": {},
   "outputs": [],
   "source": [
    "with open(f'Unary/{max_num}/random.pckl', 'wb') as f:\n",
    "    pickle.dump(random, f)"
   ]
  },
  {
   "cell_type": "markdown",
   "id": "b57db7f1-de63-4210-a9c8-105e7854d0d9",
   "metadata": {},
   "source": [
    "## 4. Combine and Save Results\n",
    "\n",
    "Load data from previous notebooks and evaluate cheap reference potential to construct\n",
    "a simple training set."
   ]
  },
  {
   "cell_type": "code",
   "execution_count": 28,
   "id": "7b5520e6-2d0d-49c9-9887-fff21399b362",
   "metadata": {},
   "outputs": [],
   "source": [
    "with open(f'Unary/{max_num}/spg.pckl', 'rb') as f:\n",
    "    spg = pickle.load(f)\n",
    "with open(f'Unary/{max_num}/volmin.pckl', 'rb') as f:\n",
    "    volmin = pickle.load(f)\n",
    "with open(f'Unary/{max_num}/allmin.pckl', 'rb') as f:\n",
    "    allmin = pickle.load(f)\n",
    "with open(f'Unary/{max_num}/random.pckl', 'rb') as f:\n",
    "    random = pickle.load(f)"
   ]
  },
  {
   "cell_type": "markdown",
   "id": "fc2caf5c-815b-48ea-9a0c-fe6cbd40daa0",
   "metadata": {},
   "source": [
    "Final filter step, removing structures with very close atoms or very large volumes.\n",
    "In production runs, structures could also be filtered by forces or energy ranges."
   ]
  },
  {
   "cell_type": "code",
   "execution_count": 29,
   "id": "ff6e66a0-ca94-4f2d-ba1d-c504628cbf9a",
   "metadata": {},
   "outputs": [],
   "source": [
    "everything = list(filter(VolumeFilter(300), filter(DistanceFilter({'Cu': 1}), spg + volmin + allmin + random)))"
   ]
  },
  {
   "cell_type": "code",
   "execution_count": 30,
   "id": "c39e5287-0db9-4c79-9e49-0c4c519fa5bf",
   "metadata": {},
   "outputs": [],
   "source": [
    "with open(f'Unary/{max_num}/everything.pckl', 'wb') as f:\n",
    "    pickle.dump(everything, f)"
   ]
  },
  {
   "cell_type": "markdown",
   "id": "2b013323-3456-4054-88c9-0f31b1605f94",
   "metadata": {},
   "source": [
    "## Fit a simple potential\n",
    "\n",
    "Technically not part of the ASSYST workflow anymore, but now we have everything to train a (simple) potential."
   ]
  },
  {
   "cell_type": "code",
   "execution_count": 31,
   "id": "4c205e8f-ee04-4886-931f-436f19af292f",
   "metadata": {},
   "outputs": [
    {
     "data": {
      "application/vnd.jupyter.widget-view+json": {
       "model_id": "0eb348ee810248a48255f8a2482f1992",
       "version_major": 2,
       "version_minor": 0
      },
      "text/plain": [
       "  0%|          | 0/1443 [00:00<?, ?it/s]"
      ]
     },
     "metadata": {},
     "output_type": "display_data"
    }
   ],
   "source": [
    "df = []\n",
    "for s in tqdm(everything):\n",
    "    s.calc = reference\n",
    "    df.append({\n",
    "        'ase_atoms': s,\n",
    "        'energy': s.get_potential_energy(),\n",
    "        'forces': s.get_forces(),\n",
    "        'number_of_atoms': len(s)\n",
    "    })\n",
    "df = pd.DataFrame(df)"
   ]
  },
  {
   "cell_type": "code",
   "execution_count": 32,
   "id": "a01a84d1-868f-4e67-ba80-6f8d75fb19b3",
   "metadata": {},
   "outputs": [],
   "source": [
    "df.to_pickle(f'Unary/{max_num}/everything_training_data.pckl.gz')"
   ]
  },
  {
   "cell_type": "code",
   "execution_count": 33,
   "id": "6444e707-bf33-4182-a797-90f6659801e5",
   "metadata": {},
   "outputs": [
    {
     "data": {
      "text/plain": [
       "Text(0.5, 0, 'Energy per atom [eV/atom]')"
      ]
     },
     "execution_count": 33,
     "metadata": {},
     "output_type": "execute_result"
    },
    {
     "data": {
      "image/png": "[encoded data removed]",
      "text/plain": [
       "<Figure size 640x480 with 1 Axes>"
      ]
     },
     "metadata": {},
     "output_type": "display_data"
    }
   ],
   "source": [
    "df.eval('energy/number_of_atoms').plot.hist(bins=100, log=True)\n",
    "plt.xlabel('Energy per atom [eV/atom]')"
   ]
  },
  {
   "cell_type": "code",
   "execution_count": 34,
   "id": "2dd20353-f1c7-42a5-a817-4fd0f55f3885",
   "metadata": {},
   "outputs": [
    {
     "data": {
      "text/plain": [
       "(0.0, 300.0)"
      ]
     },
     "execution_count": 34,
     "metadata": {},
     "output_type": "execute_result"
    },
    {
     "data": {
      "image/png": "[encoded data removed]",
      "text/plain": [
       "<Figure size 640x480 with 1 Axes>"
      ]
     },
     "metadata": {},
     "output_type": "display_data"
    }
   ],
   "source": [
    "plt.scatter(df.ase_atoms.map(lambda s: s.cell.volume/len(s)), df.energy/df.number_of_atoms, marker='.')\n",
    "plt.xlim(0, 300)"
   ]
  },
  {
   "cell_type": "code",
   "execution_count": 35,
   "id": "df20da54-3291-428b-afe1-16443a088973",
   "metadata": {},
   "outputs": [
    {
     "data": {
      "text/plain": [
       "Text(0.5, 0, 'force components [eV/$\\\\mathrm{\\\\AA}$]')"
      ]
     },
     "execution_count": 35,
     "metadata": {},
     "output_type": "execute_result"
    },
    {
     "data": {
      "image/png": "[encoded data removed]",
      "text/plain": [
       "<Figure size 640x480 with 1 Axes>"
      ]
     },
     "metadata": {},
     "output_type": "display_data"
    }
   ],
   "source": [
    "df.forces.explode().explode().infer_objects().plot.hist(bins=100, log=True)\n",
    "plt.xlabel(r'force components [eV/$\\mathrm{\\AA}$]')"
   ]
  },
  {
   "cell_type": "markdown",
   "id": "4deee21b-7b65-48c3-8c03-1f365cbb3ef1",
   "metadata": {
    "tags": []
   },
   "source": [
    "### Final Filtering Step\n",
    "\n",
    "Because of the diverse and random nature of the structure in the training set, they can contain very extreme environments.\n",
    "Those create undue difficulty for learning the potential without beeing very informative, because, e.g. they contain atoms at very close distances.\n",
    "They can be filtered out either with `EnergyFilter` and `ForceFilter` when dealing with a list of Atoms, or directly on the pandas dataframe with the training data."
   ]
  },
  {
   "cell_type": "code",
   "execution_count": 36,
   "id": "5066e8d0-6cb8-479b-b6bd-9b2d3abb6075",
   "metadata": {
    "tags": []
   },
   "outputs": [],
   "source": [
    "from assyst.filters import EnergyFilter, ForceFilter"
   ]
  },
  {
   "cell_type": "code",
   "execution_count": 37,
   "id": "8ed752d7-9f71-424f-9ee0-9d7306888411",
   "metadata": {
    "tags": []
   },
   "outputs": [
    {
     "data": {
      "text/plain": [
       "\u001b[31mInit signature:\u001b[39m\n",
       "EnergyFilter(\n",
       "    min_energy: float = -inf,\n",
       "    max_energy: float = inf,\n",
       "    *,\n",
       "    missing: Literal[\u001b[33m'error'\u001b[39m, \u001b[33m'ignore'\u001b[39m] = \u001b[33m'error'\u001b[39m,\n",
       ") -> \u001b[38;5;28;01mNone\u001b[39;00m\n",
       "\u001b[31mDocstring:\u001b[39m      Filters structures by energy per atom.\n",
       "\u001b[31mFile:\u001b[39m           ~/science/phd/dev/assyst/assyst/filters.py\n",
       "\u001b[31mType:\u001b[39m           ABCMeta\n",
       "\u001b[31mSubclasses:\u001b[39m     "
      ]
     },
     "metadata": {},
     "output_type": "display_data"
    }
   ],
   "source": [
    "EnergyFilter?"
   ]
  },
  {
   "cell_type": "code",
   "execution_count": 38,
   "id": "699bdbba-c158-44ec-9b57-7c94e183c887",
   "metadata": {
    "tags": []
   },
   "outputs": [
    {
     "data": {
      "text/plain": [
       "\u001b[31mInit signature:\u001b[39m\n",
       "ForceFilter(\n",
       "    max_force: float = inf,\n",
       "    *,\n",
       "    missing: Literal[\u001b[33m'error'\u001b[39m, \u001b[33m'ignore'\u001b[39m] = \u001b[33m'error'\u001b[39m,\n",
       ") -> \u001b[38;5;28;01mNone\u001b[39;00m\n",
       "\u001b[31mDocstring:\u001b[39m      Filters structures by maximum force magnitude.\n",
       "\u001b[31mFile:\u001b[39m           ~/science/phd/dev/assyst/assyst/filters.py\n",
       "\u001b[31mType:\u001b[39m           ABCMeta\n",
       "\u001b[31mSubclasses:\u001b[39m     "
      ]
     },
     "metadata": {},
     "output_type": "display_data"
    }
   ],
   "source": [
    "ForceFilter?"
   ]
  },
  {
   "cell_type": "code",
   "execution_count": 39,
   "id": "e5227490-1dfb-450e-9069-1befa118ea0f",
   "metadata": {
    "tags": []
   },
   "outputs": [],
   "source": [
    "# filter(ForceFilter(10), ...)"
   ]
  },
  {
   "cell_type": "markdown",
   "id": "95863ab3-7c87-4bd4-be99-df41f0013de1",
   "metadata": {},
   "source": [
    "These require ase `SinglePointCalculators` to be attached to the atoms."
   ]
  },
  {
   "cell_type": "markdown",
   "id": "de22ff9d-3cbc-43cf-8c45-279402fc82a1",
   "metadata": {},
   "source": [
    "Or working directly on pandas."
   ]
  },
  {
   "cell_type": "code",
   "execution_count": 40,
   "id": "f19db1d2-0930-4a96-9095-29f73cc456e1",
   "metadata": {
    "tags": []
   },
   "outputs": [
    {
     "data": {
      "text/html": [
       "<div>\n",
       "<style scoped>\n",
       "    .dataframe tbody tr th:only-of-type {\n",
       "        vertical-align: middle;\n",
       "    }\n",
       "\n",
       "    .dataframe tbody tr th {\n",
       "        vertical-align: top;\n",
       "    }\n",
       "\n",
       "    .dataframe thead th {\n",
       "        text-align: right;\n",
       "    }\n",
       "</style>\n",
       "<table border=\"1\" class=\"dataframe\">\n",
       "  <thead>\n",
       "    <tr style=\"text-align: right;\">\n",
       "      <th></th>\n",
       "      <th>ase_atoms</th>\n",
       "      <th>energy</th>\n",
       "      <th>forces</th>\n",
       "      <th>number_of_atoms</th>\n",
       "    </tr>\n",
       "  </thead>\n",
       "  <tbody>\n",
       "    <tr>\n",
       "      <th>0</th>\n",
       "      <td>(Atom('Cu', [0.5141075180158711, 0.60230777037...</td>\n",
       "      <td>-2.125270</td>\n",
       "      <td>[[-5.664956351236761e-17, 1.568840543586525e-1...</td>\n",
       "      <td>1</td>\n",
       "    </tr>\n",
       "    <tr>\n",
       "      <th>1</th>\n",
       "      <td>(Atom('Cu', [1.0285840989317994, 6.29826112205...</td>\n",
       "      <td>-1.054615</td>\n",
       "      <td>[[-2.389581588158052e-16, -1.3877787807814457e...</td>\n",
       "      <td>1</td>\n",
       "    </tr>\n",
       "    <tr>\n",
       "      <th>2</th>\n",
       "      <td>(Atom('Cu', [0.0, 0.0, 0.0], index=0))</td>\n",
       "      <td>-1.691081</td>\n",
       "      <td>[[-2.2551405187698492e-17, 3.122502256758253e-...</td>\n",
       "      <td>1</td>\n",
       "    </tr>\n",
       "    <tr>\n",
       "      <th>3</th>\n",
       "      <td>(Atom('Cu', [0.0, 0.0, 1.0095901268643332], in...</td>\n",
       "      <td>-1.682504</td>\n",
       "      <td>[[-4.651227319962814e-17, -7.405100838075995e-...</td>\n",
       "      <td>1</td>\n",
       "    </tr>\n",
       "    <tr>\n",
       "      <th>4</th>\n",
       "      <td>(Atom('Cu', [0.0, 0.0, 1.5607138776345604], in...</td>\n",
       "      <td>0.551942</td>\n",
       "      <td>[[2.1250362580715887e-16, -1.085503215092487e-...</td>\n",
       "      <td>1</td>\n",
       "    </tr>\n",
       "    <tr>\n",
       "      <th>...</th>\n",
       "      <td>...</td>\n",
       "      <td>...</td>\n",
       "      <td>...</td>\n",
       "      <td>...</td>\n",
       "    </tr>\n",
       "    <tr>\n",
       "      <th>1438</th>\n",
       "      <td>(Atom('Cu', [0.11949630835106319, -0.035897004...</td>\n",
       "      <td>-5.169599</td>\n",
       "      <td>[[2.47051936365534, -0.3287860844173042, -2.48...</td>\n",
       "      <td>2</td>\n",
       "    </tr>\n",
       "    <tr>\n",
       "      <th>1439</th>\n",
       "      <td>(Atom('Cu', [0.12527304991791974, -0.033718344...</td>\n",
       "      <td>-5.143664</td>\n",
       "      <td>[[2.560059266503298, -0.33962832541655485, -2....</td>\n",
       "      <td>2</td>\n",
       "    </tr>\n",
       "    <tr>\n",
       "      <th>1440</th>\n",
       "      <td>(Atom('Cu', [0.0, 0.0, 0.0], index=0), Atom('C...</td>\n",
       "      <td>-4.584929</td>\n",
       "      <td>[[-7.421719624501125e-15, 2.9268240934153533e-...</td>\n",
       "      <td>2</td>\n",
       "    </tr>\n",
       "    <tr>\n",
       "      <th>1441</th>\n",
       "      <td>(Atom('Cu', [0.0, 0.0, 0.0], index=0), Atom('C...</td>\n",
       "      <td>-3.747134</td>\n",
       "      <td>[[-6.027296717281416e-15, 3.094746681142624e-1...</td>\n",
       "      <td>2</td>\n",
       "    </tr>\n",
       "    <tr>\n",
       "      <th>1442</th>\n",
       "      <td>(Atom('Cu', [0.0, 0.0, 0.0], index=0), Atom('C...</td>\n",
       "      <td>-2.712039</td>\n",
       "      <td>[[-6.036295595313046e-17, 6.938893903907228e-1...</td>\n",
       "      <td>2</td>\n",
       "    </tr>\n",
       "  </tbody>\n",
       "</table>\n",
       "<p>1443 rows × 4 columns</p>\n",
       "</div>"
      ],
      "text/plain": [
       "                                              ase_atoms    energy  \\\n",
       "0     (Atom('Cu', [0.5141075180158711, 0.60230777037... -2.125270   \n",
       "1     (Atom('Cu', [1.0285840989317994, 6.29826112205... -1.054615   \n",
       "2                (Atom('Cu', [0.0, 0.0, 0.0], index=0)) -1.691081   \n",
       "3     (Atom('Cu', [0.0, 0.0, 1.0095901268643332], in... -1.682504   \n",
       "4     (Atom('Cu', [0.0, 0.0, 1.5607138776345604], in...  0.551942   \n",
       "...                                                 ...       ...   \n",
       "1438  (Atom('Cu', [0.11949630835106319, -0.035897004... -5.169599   \n",
       "1439  (Atom('Cu', [0.12527304991791974, -0.033718344... -5.143664   \n",
       "1440  (Atom('Cu', [0.0, 0.0, 0.0], index=0), Atom('C... -4.584929   \n",
       "1441  (Atom('Cu', [0.0, 0.0, 0.0], index=0), Atom('C... -3.747134   \n",
       "1442  (Atom('Cu', [0.0, 0.0, 0.0], index=0), Atom('C... -2.712039   \n",
       "\n",
       "                                                 forces  number_of_atoms  \n",
       "0     [[-5.664956351236761e-17, 1.568840543586525e-1...                1  \n",
       "1     [[-2.389581588158052e-16, -1.3877787807814457e...                1  \n",
       "2     [[-2.2551405187698492e-17, 3.122502256758253e-...                1  \n",
       "3     [[-4.651227319962814e-17, -7.405100838075995e-...                1  \n",
       "4     [[2.1250362580715887e-16, -1.085503215092487e-...                1  \n",
       "...                                                 ...              ...  \n",
       "1438  [[2.47051936365534, -0.3287860844173042, -2.48...                2  \n",
       "1439  [[2.560059266503298, -0.33962832541655485, -2....                2  \n",
       "1440  [[-7.421719624501125e-15, 2.9268240934153533e-...                2  \n",
       "1441  [[-6.027296717281416e-15, 3.094746681142624e-1...                2  \n",
       "1442  [[-6.036295595313046e-17, 6.938893903907228e-1...                2  \n",
       "\n",
       "[1443 rows x 4 columns]"
      ]
     },
     "execution_count": 40,
     "metadata": {},
     "output_type": "execute_result"
    }
   ],
   "source": [
    "df.query('-3 <= energy / number_of_atoms < 10')"
   ]
  },
  {
   "cell_type": "markdown",
   "id": "641bb5f7-d45f-4ff4-a281-92517e121926",
   "metadata": {},
   "source": [
    "### ACE\n",
    "\n",
    "Fit a simplified linear, pair descriptor only ACE potential to the training data.\n",
    "\n",
    "You'll need to install `python-ace` from either PyPI or conda-forge."
   ]
  },
  {
   "cell_type": "code",
   "execution_count": 41,
   "id": "09cc380e-cd17-4fe5-a543-96929e473a64",
   "metadata": {},
   "outputs": [
    {
     "ename": "ModuleNotFoundError",
     "evalue": "No module named 'pyace'",
     "output_type": "error",
     "traceback": [
      "\u001b[31m---------------------------------------------------------------------------\u001b[39m",
      "\u001b[31mModuleNotFoundError\u001b[39m                       Traceback (most recent call last)",
      "\u001b[36mCell\u001b[39m\u001b[36m \u001b[39m\u001b[32mIn[41]\u001b[39m\u001b[32m, line 1\u001b[39m\n\u001b[32m----> \u001b[39m\u001b[32m1\u001b[39m \u001b[38;5;28;01mimport\u001b[39;00m\u001b[38;5;250m \u001b[39m\u001b[34;01mpyace\u001b[39;00m\u001b[34;01m.\u001b[39;00m\u001b[34;01mlinearacefit\u001b[39;00m\u001b[38;5;250m \u001b[39m\u001b[38;5;28;01mas\u001b[39;00m\u001b[38;5;250m \u001b[39m\u001b[34;01mplf\u001b[39;00m\n\u001b[32m      2\u001b[39m \u001b[38;5;28;01mimport\u001b[39;00m\u001b[38;5;250m \u001b[39m\u001b[34;01mpyace\u001b[39;00m\n\u001b[32m      3\u001b[39m \u001b[38;5;28;01mdef\u001b[39;00m\u001b[38;5;250m \u001b[39m\u001b[34mmake_ace\u001b[39m(rmax, number_of_radial_functions, element=\u001b[33m'\u001b[39m\u001b[33mCu\u001b[39m\u001b[33m'\u001b[39m):\n",
      "\u001b[31mModuleNotFoundError\u001b[39m: No module named 'pyace'"
     ]
    }
   ],
   "source": [
    "import pyace.linearacefit as plf\n",
    "import pyace\n",
    "def make_ace(rmax, number_of_radial_functions, element='Cu'):\n",
    "    '''Creates a simple basis configuration for a pair ACE.'''\n",
    "    pot_conf = {\n",
    "        'elements': [element],\n",
    "        'embeddings': {\n",
    "            'ALL': {\n",
    "                'fs_parameters': [1, 1],\n",
    "                'ndensity': 1,\n",
    "                'npot': 'FinnisSinclair',\n",
    "            },\n",
    "        },\n",
    "        'bonds': {\n",
    "            'ALL': {\n",
    "                'NameOfCutoffFunction': 'cos',\n",
    "                'dcut': 0.01,\n",
    "                'radbase': 'ChebPow',\n",
    "                'radparameters': [2.0],\n",
    "                'rcut': rmax\n",
    "            },\n",
    "        },\n",
    "        'functions': {\n",
    "            'UNARY': { \n",
    "                'nradmax_by_orders': [ number_of_radial_functions ],\n",
    "                'lmax_by_orders':    [  0 ] \n",
    "            }\n",
    "        }\n",
    "    }\n",
    "    return pyace.create_multispecies_basis_config(pot_conf)"
   ]
  },
  {
   "cell_type": "code",
   "execution_count": null,
   "id": "f9da8788-8677-46c8-9130-3e4d7baa8206",
   "metadata": {},
   "outputs": [],
   "source": [
    "from ase import Atoms\n",
    "def dimer(calc, r):\n",
    "    '''Helper function to evaluate a dimer curve for a given calculator.\n",
    "\n",
    "    Args:\n",
    "        calc (ase.calculator.Calculator): the potential to evaluate\n",
    "        r (iterable of float): distances to evaluate the dimer curve at\n",
    "\n",
    "    Returns:\n",
    "        array of distances as given, array of corresponding energies.'''\n",
    "    s = lambda r: Atoms(['Cu','Cu'], positions=[[0.]*3, [r, 0, 0]], cell=[40]*3)\n",
    "    e = []\n",
    "    r = np.array(r)\n",
    "    for ri in r:\n",
    "        si = s(ri)\n",
    "        si.calc = calc\n",
    "        e.append(si.get_potential_energy())\n",
    "    return r, np.array(e)"
   ]
  },
  {
   "cell_type": "code",
   "execution_count": null,
   "id": "98c1228f-3fc8-425a-9937-9d48b3cb8455",
   "metadata": {},
   "outputs": [],
   "source": [
    "bbasis = make_ace(6.5, number_of_radial_functions=20, element='Cu')\n",
    "ds = plf.LinearACEDataset(bbasis, df)"
   ]
  },
  {
   "cell_type": "code",
   "execution_count": null,
   "id": "e184bf44-08e7-471e-96e7-6a7768d5423a",
   "metadata": {},
   "outputs": [],
   "source": [
    "%%time\n",
    "ds.construct_design_matrix()"
   ]
  },
  {
   "cell_type": "code",
   "execution_count": null,
   "id": "e448fa0b-01f4-4374-a7dd-7cc3d2f0903f",
   "metadata": {},
   "outputs": [],
   "source": [
    "lf = plf.LinearACEFit(train_dataset=ds)"
   ]
  },
  {
   "cell_type": "code",
   "execution_count": null,
   "id": "37888c6c-96c8-4c9f-a8b8-3bd2e49ad354",
   "metadata": {},
   "outputs": [],
   "source": [
    "%%time\n",
    "lf.fit()"
   ]
  },
  {
   "cell_type": "code",
   "execution_count": null,
   "id": "1cfada04-6e55-4edf-b857-62d72e1a1e7d",
   "metadata": {},
   "outputs": [],
   "source": [
    "acef = pyace.PyACECalculator(lf.get_bbasis())"
   ]
  },
  {
   "cell_type": "markdown",
   "id": "d559e0db-cb6a-479b-8674-8114a893a1b0",
   "metadata": {},
   "source": [
    "Basic error metrics."
   ]
  },
  {
   "cell_type": "code",
   "execution_count": null,
   "id": "55d13539-356d-4bb8-9dc6-8e477b0958d4",
   "metadata": {},
   "outputs": [],
   "source": [
    "lf.compute_errors()"
   ]
  },
  {
   "cell_type": "markdown",
   "id": "f232782f-37f9-4dbc-aa74-33a00449fcdf",
   "metadata": {},
   "source": [
    "Compare the resulting pair potential."
   ]
  },
  {
   "cell_type": "code",
   "execution_count": null,
   "id": "c2cff9f4-939f-4cd1-a245-1f99746660f4",
   "metadata": {
    "tags": []
   },
   "outputs": [],
   "source": [
    "r = np.linspace(2, 7)\n",
    "plt.subplot(121)\n",
    "plt.plot(*dimer(acef, r),  label='ACE')\n",
    "plt.plot(*dimer(reference, r), label='REF')\n",
    "plt.legend()\n",
    "plt.xlabel(r'$r$ [$\\mathrm{\\AA}$]')\n",
    "plt.ylabel(r'$E$ [eV/atom]')\n",
    "plt.subplot(122)\n",
    "plt.plot(r, dimer(acef, r)[1]-dimer(reference, r)[1])\n",
    "plt.xlabel(r'$r$ [$\\mathrm{\\AA}$]')\n",
    "plt.ylabel(r'$\\Delta E$ [eV/atom]')\n",
    "plt.tight_layout()"
   ]
  }
 ],
 "metadata": {
  "kernelspec": {
   "display_name": "Python 3 (ipykernel)",
   "language": "python",
   "name": "python3"
  },
  "language_info": {
   "codemirror_mode": {
    "name": "ipython",
    "version": 3
   },
   "file_extension": ".py",
   "mimetype": "text/x-python",
   "name": "python",
   "nbconvert_exporter": "python",
   "pygments_lexer": "ipython3",
   "version": "3.12.0"
  },
  "widgets": {
   "application/vnd.jupyter.widget-state+json": {
    "state": {
     "04024fb9721948d69ea3ad8fc39ec983": {
      "model_module": "@jupyter-widgets/base",
      "model_module_version": "2.0.0",
      "model_name": "LayoutModel",
      "state": {}
     },
     "04be8bf32c154e99987246ae514ec48f": {
      "model_module": "@jupyter-widgets/controls",
      "model_module_version": "2.0.0",
      "model_name": "HTMLStyleModel",
      "state": {
       "description_width": "",
       "font_size": null,
       "text_color": null
      }
     },
     "04e46931e33f47fb9be227dd92c0db7c": {
      "model_module": "@jupyter-widgets/controls",
      "model_module_version": "2.0.0",
      "model_name": "HTMLModel",
      "state": {
       "layout": "IPY_MODEL_f5c2acbac80649378b3d133a68461f8c",
       "style": "IPY_MODEL_0b51748e6853441fb27619ebd3fbb0f8",
       "value": "100%"
      }
     },
     "07f376da7da94d359dd019fa34fb407a": {
      "model_module": "@jupyter-widgets/controls",
      "model_module_version": "2.0.0",
      "model_name": "HTMLStyleModel",
      "state": {
       "description_width": "",
       "font_size": null,
       "text_color": null
      }
     },
     "0af0c40c73b7428ab84a743b7ccbf733": {
      "model_module": "@jupyter-widgets/controls",
      "model_module_version": "2.0.0",
      "model_name": "HTMLStyleModel",
      "state": {
       "description_width": "",
       "font_size": null,
       "text_color": null
      }
     },
     "0b51748e6853441fb27619ebd3fbb0f8": {
      "model_module": "@jupyter-widgets/controls",
      "model_module_version": "2.0.0",
      "model_name": "HTMLStyleModel",
      "state": {
       "description_width": "",
       "font_size": null,
       "text_color": null
      }
     },
     "0eb348ee810248a48255f8a2482f1992": {
      "model_module": "@jupyter-widgets/controls",
      "model_module_version": "2.0.0",
      "model_name": "HBoxModel",
      "state": {
       "children": [
        "IPY_MODEL_04e46931e33f47fb9be227dd92c0db7c",
        "IPY_MODEL_26922bcb1652423b86a30a62a6beca7e",
        "IPY_MODEL_99860b40ce6047d7aad4375ef571bfee"
       ],
       "layout": "IPY_MODEL_ffa1c97c086d4cac9c5aabee79737cdc"
      }
     },
     "0ebee19ccd104df9bc461cd61c3ffed8": {
      "model_module": "@jupyter-widgets/controls",
      "model_module_version": "2.0.0",
      "model_name": "FloatProgressModel",
      "state": {
       "bar_style": "success",
       "layout": "IPY_MODEL_58f10298809944eb94083796304e8f47",
       "max": 169,
       "style": "IPY_MODEL_7f5609e2427c4ae79379c4c5a79e12d6",
       "value": 169
      }
     },
     "0f3088090616472e818051c44909299b": {
      "model_module": "@jupyter-widgets/controls",
      "model_module_version": "2.0.0",
      "model_name": "FloatProgressModel",
      "state": {
       "bar_style": "success",
       "layout": "IPY_MODEL_449c268e2e224764bf545edf52b1b776",
       "max": 230,
       "style": "IPY_MODEL_4bc68d8a76144589977e580ca8a15cc5",
       "value": 230
      }
     },
     "1b7cebbc6ea84d66b7015875b1edaf33": {
      "model_module": "@jupyter-widgets/base",
      "model_module_version": "2.0.0",
      "model_name": "LayoutModel",
      "state": {}
     },
     "1c5ffc00cfa141e1b2788c3647b4cc9a": {
      "model_module": "@jupyter-widgets/controls",
      "model_module_version": "2.0.0",
      "model_name": "ProgressStyleModel",
      "state": {
       "description_width": ""
      }
     },
     "22e78a1fa1564c4c835436565ed310c1": {
      "model_module": "@jupyter-widgets/controls",
      "model_module_version": "2.0.0",
      "model_name": "ProgressStyleModel",
      "state": {
       "description_width": ""
      }
     },
     "26922bcb1652423b86a30a62a6beca7e": {
      "model_module": "@jupyter-widgets/controls",
      "model_module_version": "2.0.0",
      "model_name": "FloatProgressModel",
      "state": {
       "bar_style": "success",
       "layout": "IPY_MODEL_04024fb9721948d69ea3ad8fc39ec983",
       "max": 1443,
       "style": "IPY_MODEL_740eda1f18b64e78b1f7cabdd6f52f29",
       "value": 1443
      }
     },
     "2e72dc8b35634b939a041df7c6d60172": {
      "model_module": "@jupyter-widgets/base",
      "model_module_version": "2.0.0",
      "model_name": "LayoutModel",
      "state": {}
     },
     "2fb4738905e4463199b3e0a60d17b2a9": {
      "model_module": "@jupyter-widgets/controls",
      "model_module_version": "2.0.0",
      "model_name": "HTMLModel",
      "state": {
       "layout": "IPY_MODEL_74f8cfefaa0740f5befa5cb2ce6657df",
       "style": "IPY_MODEL_07f376da7da94d359dd019fa34fb407a",
       "value": "Spacegroups: 100%"
      }
     },
     "2fe6b28cc0b34f4ba09179651c9e9daf": {
      "model_module": "@jupyter-widgets/base",
      "model_module_version": "2.0.0",
      "model_name": "LayoutModel",
      "state": {}
     },
     "353219d6f7734c5993559891d18db167": {
      "model_module": "@jupyter-widgets/controls",
      "model_module_version": "2.0.0",
      "model_name": "HTMLStyleModel",
      "state": {
       "description_width": "",
       "font_size": null,
       "text_color": null
      }
     },
     "449c268e2e224764bf545edf52b1b776": {
      "model_module": "@jupyter-widgets/base",
      "model_module_version": "2.0.0",
      "model_name": "LayoutModel",
      "state": {}
     },
     "49d6bd5eca7045438034ce16fe94d6eb": {
      "model_module": "@jupyter-widgets/base",
      "model_module_version": "2.0.0",
      "model_name": "LayoutModel",
      "state": {}
     },
     "4aa13d2310db41b6bf223f50d3911032": {
      "model_module": "@jupyter-widgets/controls",
      "model_module_version": "2.0.0",
      "model_name": "FloatProgressModel",
      "state": {
       "bar_style": "success",
       "layout": "IPY_MODEL_49d6bd5eca7045438034ce16fe94d6eb",
       "max": 230,
       "style": "IPY_MODEL_88791605664d408086306a0cefcc0add",
       "value": 230
      }
     },
     "4bc68d8a76144589977e580ca8a15cc5": {
      "model_module": "@jupyter-widgets/controls",
      "model_module_version": "2.0.0",
      "model_name": "ProgressStyleModel",
      "state": {
       "description_width": ""
      }
     },
     "4d36905262c149f3a1f231407c14055b": {
      "model_module": "@jupyter-widgets/controls",
      "model_module_version": "2.0.0",
      "model_name": "HBoxModel",
      "state": {
       "children": [
        "IPY_MODEL_2fb4738905e4463199b3e0a60d17b2a9",
        "IPY_MODEL_4aa13d2310db41b6bf223f50d3911032",
        "IPY_MODEL_e5e36b6d1807439b9a2dfa7533cb212b"
       ],
       "layout": "IPY_MODEL_f00753628237494e96d140f13e8b1c58"
      }
     },
     "56acb5f63b4446cbb7c6c96e8671492b": {
      "model_module": "@jupyter-widgets/controls",
      "model_module_version": "2.0.0",
      "model_name": "HBoxModel",
      "state": {
       "children": [
        "IPY_MODEL_804250a197b945e49ff31ce1e8207697",
        "IPY_MODEL_a969b2838df949d6b68616c484cc3266",
        "IPY_MODEL_9395d469de364d46bde67a2726696b75"
       ],
       "layout": "IPY_MODEL_2fe6b28cc0b34f4ba09179651c9e9daf"
      }
     },
     "58f10298809944eb94083796304e8f47": {
      "model_module": "@jupyter-widgets/base",
      "model_module_version": "2.0.0",
      "model_name": "LayoutModel",
      "state": {}
     },
     "632c164981034c738da073a3d5071b1a": {
      "model_module": "@jupyter-widgets/controls",
      "model_module_version": "2.0.0",
      "model_name": "HTMLModel",
      "state": {
       "layout": "IPY_MODEL_1b7cebbc6ea84d66b7015875b1edaf33",
       "style": "IPY_MODEL_78d3f03994e74a99a9672870eb2ac76d",
       "value": "Cu2: 100%"
      }
     },
     "64b8be6096644dc8b9d539d2e4b6fd40": {
      "model_module": "@jupyter-widgets/controls",
      "model_module_version": "2.0.0",
      "model_name": "HTMLModel",
      "state": {
       "layout": "IPY_MODEL_c506686a39684889804c37583cf53b96",
       "style": "IPY_MODEL_353219d6f7734c5993559891d18db167",
       "value": " 230/230 [00:01&lt;00:00, 196.54it/s]"
      }
     },
     "64f5f5a329a74d6182e4cde41be7148f": {
      "model_module": "@jupyter-widgets/controls",
      "model_module_version": "2.0.0",
      "model_name": "FloatProgressModel",
      "state": {
       "bar_style": "success",
       "layout": "IPY_MODEL_caa77b4fa7d840ed9ea774c1324ef41b",
       "max": 3,
       "style": "IPY_MODEL_1c5ffc00cfa141e1b2788c3647b4cc9a",
       "value": 3
      }
     },
     "6508bf4c50a548f8a7e525b96544c1f2": {
      "model_module": "@jupyter-widgets/base",
      "model_module_version": "2.0.0",
      "model_name": "LayoutModel",
      "state": {}
     },
     "71a70ba5974f48e38ac53f69ba20646d": {
      "model_module": "@jupyter-widgets/controls",
      "model_module_version": "2.0.0",
      "model_name": "HTMLStyleModel",
      "state": {
       "description_width": "",
       "font_size": null,
       "text_color": null
      }
     },
     "7321f08403284dc28072c2ca31393d18": {
      "model_module": "@jupyter-widgets/base",
      "model_module_version": "2.0.0",
      "model_name": "LayoutModel",
      "state": {}
     },
     "740eda1f18b64e78b1f7cabdd6f52f29": {
      "model_module": "@jupyter-widgets/controls",
      "model_module_version": "2.0.0",
      "model_name": "ProgressStyleModel",
      "state": {
       "description_width": ""
      }
     },
     "74f8cfefaa0740f5befa5cb2ce6657df": {
      "model_module": "@jupyter-widgets/base",
      "model_module_version": "2.0.0",
      "model_name": "LayoutModel",
      "state": {}
     },
     "78d3f03994e74a99a9672870eb2ac76d": {
      "model_module": "@jupyter-widgets/controls",
      "model_module_version": "2.0.0",
      "model_name": "HTMLStyleModel",
      "state": {
       "description_width": "",
       "font_size": null,
       "text_color": null
      }
     },
     "7ec4e713c8fd4c39b4e023196d737641": {
      "model_module": "@jupyter-widgets/controls",
      "model_module_version": "2.0.0",
      "model_name": "HTMLStyleModel",
      "state": {
       "description_width": "",
       "font_size": null,
       "text_color": null
      }
     },
     "7f5609e2427c4ae79379c4c5a79e12d6": {
      "model_module": "@jupyter-widgets/controls",
      "model_module_version": "2.0.0",
      "model_name": "ProgressStyleModel",
      "state": {
       "description_width": ""
      }
     },
     "804250a197b945e49ff31ce1e8207697": {
      "model_module": "@jupyter-widgets/controls",
      "model_module_version": "2.0.0",
      "model_name": "HTMLModel",
      "state": {
       "layout": "IPY_MODEL_e57f6d64777d415baaaf101967ee39d0",
       "style": "IPY_MODEL_04be8bf32c154e99987246ae514ec48f",
       "value": "100%"
      }
     },
     "80b9920cd3fa462182ef5ec7d570c97e": {
      "model_module": "@jupyter-widgets/controls",
      "model_module_version": "2.0.0",
      "model_name": "HTMLStyleModel",
      "state": {
       "description_width": "",
       "font_size": null,
       "text_color": null
      }
     },
     "82d3e1ed4f2d41f1bd1e252f6cb0c703": {
      "model_module": "@jupyter-widgets/controls",
      "model_module_version": "2.0.0",
      "model_name": "HTMLStyleModel",
      "state": {
       "description_width": "",
       "font_size": null,
       "text_color": null
      }
     },
     "88791605664d408086306a0cefcc0add": {
      "model_module": "@jupyter-widgets/controls",
      "model_module_version": "2.0.0",
      "model_name": "ProgressStyleModel",
      "state": {
       "description_width": ""
      }
     },
     "8c001873d89346238f9f0aa35f4a9a57": {
      "model_module": "@jupyter-widgets/controls",
      "model_module_version": "2.0.0",
      "model_name": "HTMLStyleModel",
      "state": {
       "description_width": "",
       "font_size": null,
       "text_color": null
      }
     },
     "8d1eed9264e5434f8582bef0851af14c": {
      "model_module": "@jupyter-widgets/base",
      "model_module_version": "2.0.0",
      "model_name": "LayoutModel",
      "state": {}
     },
     "9395d469de364d46bde67a2726696b75": {
      "model_module": "@jupyter-widgets/controls",
      "model_module_version": "2.0.0",
      "model_name": "HTMLModel",
      "state": {
       "layout": "IPY_MODEL_dde7bd47e5cd4e16b500e9c972bb241f",
       "style": "IPY_MODEL_0af0c40c73b7428ab84a743b7ccbf733",
       "value": " 169/169 [01:16&lt;00:00,  7.72it/s]"
      }
     },
     "99860b40ce6047d7aad4375ef571bfee": {
      "model_module": "@jupyter-widgets/controls",
      "model_module_version": "2.0.0",
      "model_name": "HTMLModel",
      "state": {
       "layout": "IPY_MODEL_d2961ae89d2c431092dfd302a9d8e4e8",
       "style": "IPY_MODEL_80b9920cd3fa462182ef5ec7d570c97e",
       "value": " 1443/1443 [00:15&lt;00:00, 110.90it/s]"
      }
     },
     "a969b2838df949d6b68616c484cc3266": {
      "model_module": "@jupyter-widgets/controls",
      "model_module_version": "2.0.0",
      "model_name": "FloatProgressModel",
      "state": {
       "bar_style": "success",
       "layout": "IPY_MODEL_ed37ff0dec2d4fc5b71f0ef1cc024b24",
       "max": 169,
       "style": "IPY_MODEL_22e78a1fa1564c4c835436565ed310c1",
       "value": 169
      }
     },
     "c0ef59e4a0504281a7750d406c24d828": {
      "model_module": "@jupyter-widgets/controls",
      "model_module_version": "2.0.0",
      "model_name": "HBoxModel",
      "state": {
       "children": [
        "IPY_MODEL_632c164981034c738da073a3d5071b1a",
        "IPY_MODEL_64f5f5a329a74d6182e4cde41be7148f",
        "IPY_MODEL_c23372055e084b4eaaf05816aff4e6fa"
       ],
       "layout": "IPY_MODEL_dcaf791fd9d444248875a521bce69b1b"
      }
     },
     "c23372055e084b4eaaf05816aff4e6fa": {
      "model_module": "@jupyter-widgets/controls",
      "model_module_version": "2.0.0",
      "model_name": "HTMLModel",
      "state": {
       "layout": "IPY_MODEL_e36a7fd694b04cfea0086609072a5819",
       "style": "IPY_MODEL_f50ec880abc54ee5b73247757d19295f",
       "value": " 3/3 [00:03&lt;00:00,  1.20s/it]"
      }
     },
     "c506686a39684889804c37583cf53b96": {
      "model_module": "@jupyter-widgets/base",
      "model_module_version": "2.0.0",
      "model_name": "LayoutModel",
      "state": {}
     },
     "c7512decf9cd407eaf09ed4f7990449f": {
      "model_module": "@jupyter-widgets/controls",
      "model_module_version": "2.0.0",
      "model_name": "HTMLModel",
      "state": {
       "layout": "IPY_MODEL_cb1a6fec219d4b938315831f08efcb91",
       "style": "IPY_MODEL_7ec4e713c8fd4c39b4e023196d737641",
       "value": "100%"
      }
     },
     "caa77b4fa7d840ed9ea774c1324ef41b": {
      "model_module": "@jupyter-widgets/base",
      "model_module_version": "2.0.0",
      "model_name": "LayoutModel",
      "state": {}
     },
     "cb1a6fec219d4b938315831f08efcb91": {
      "model_module": "@jupyter-widgets/base",
      "model_module_version": "2.0.0",
      "model_name": "LayoutModel",
      "state": {}
     },
     "cce634478ccf45d287849aa8ec0b8b34": {
      "model_module": "@jupyter-widgets/controls",
      "model_module_version": "2.0.0",
      "model_name": "HBoxModel",
      "state": {
       "children": [
        "IPY_MODEL_c7512decf9cd407eaf09ed4f7990449f",
        "IPY_MODEL_0ebee19ccd104df9bc461cd61c3ffed8",
        "IPY_MODEL_d7414d4714054f54a4d035f84aae5832"
       ],
       "layout": "IPY_MODEL_7321f08403284dc28072c2ca31393d18"
      }
     },
     "d2961ae89d2c431092dfd302a9d8e4e8": {
      "model_module": "@jupyter-widgets/base",
      "model_module_version": "2.0.0",
      "model_name": "LayoutModel",
      "state": {}
     },
     "d7414d4714054f54a4d035f84aae5832": {
      "model_module": "@jupyter-widgets/controls",
      "model_module_version": "2.0.0",
      "model_name": "HTMLModel",
      "state": {
       "layout": "IPY_MODEL_2e72dc8b35634b939a041df7c6d60172",
       "style": "IPY_MODEL_8c001873d89346238f9f0aa35f4a9a57",
       "value": " 169/169 [00:31&lt;00:00,  9.68it/s]"
      }
     },
     "dca59185ac584675b442aac4ee7be1fa": {
      "model_module": "@jupyter-widgets/controls",
      "model_module_version": "2.0.0",
      "model_name": "HBoxModel",
      "state": {
       "children": [
        "IPY_MODEL_e64825a7a96243e19d3bed079592d06d",
        "IPY_MODEL_0f3088090616472e818051c44909299b",
        "IPY_MODEL_64b8be6096644dc8b9d539d2e4b6fd40"
       ],
       "layout": "IPY_MODEL_6508bf4c50a548f8a7e525b96544c1f2"
      }
     },
     "dcaf791fd9d444248875a521bce69b1b": {
      "model_module": "@jupyter-widgets/base",
      "model_module_version": "2.0.0",
      "model_name": "LayoutModel",
      "state": {}
     },
     "dde7bd47e5cd4e16b500e9c972bb241f": {
      "model_module": "@jupyter-widgets/base",
      "model_module_version": "2.0.0",
      "model_name": "LayoutModel",
      "state": {}
     },
     "e36a7fd694b04cfea0086609072a5819": {
      "model_module": "@jupyter-widgets/base",
      "model_module_version": "2.0.0",
      "model_name": "LayoutModel",
      "state": {}
     },
     "e57f6d64777d415baaaf101967ee39d0": {
      "model_module": "@jupyter-widgets/base",
      "model_module_version": "2.0.0",
      "model_name": "LayoutModel",
      "state": {}
     },
     "e5e36b6d1807439b9a2dfa7533cb212b": {
      "model_module": "@jupyter-widgets/controls",
      "model_module_version": "2.0.0",
      "model_name": "HTMLModel",
      "state": {
       "layout": "IPY_MODEL_f257023e0c744c9eb2fa70133e4071c6",
       "style": "IPY_MODEL_82d3e1ed4f2d41f1bd1e252f6cb0c703",
       "value": " 230/230 [00:02&lt;00:00, 86.24it/s]"
      }
     },
     "e64825a7a96243e19d3bed079592d06d": {
      "model_module": "@jupyter-widgets/controls",
      "model_module_version": "2.0.0",
      "model_name": "HTMLModel",
      "state": {
       "layout": "IPY_MODEL_8d1eed9264e5434f8582bef0851af14c",
       "style": "IPY_MODEL_71a70ba5974f48e38ac53f69ba20646d",
       "value": "Spacegroups: 100%"
      }
     },
     "ed37ff0dec2d4fc5b71f0ef1cc024b24": {
      "model_module": "@jupyter-widgets/base",
      "model_module_version": "2.0.0",
      "model_name": "LayoutModel",
      "state": {}
     },
     "f00753628237494e96d140f13e8b1c58": {
      "model_module": "@jupyter-widgets/base",
      "model_module_version": "2.0.0",
      "model_name": "LayoutModel",
      "state": {}
     },
     "f257023e0c744c9eb2fa70133e4071c6": {
      "model_module": "@jupyter-widgets/base",
      "model_module_version": "2.0.0",
      "model_name": "LayoutModel",
      "state": {}
     },
     "f50ec880abc54ee5b73247757d19295f": {
      "model_module": "@jupyter-widgets/controls",
      "model_module_version": "2.0.0",
      "model_name": "HTMLStyleModel",
      "state": {
       "description_width": "",
       "font_size": null,
       "text_color": null
      }
     },
     "f5c2acbac80649378b3d133a68461f8c": {
      "model_module": "@jupyter-widgets/base",
      "model_module_version": "2.0.0",
      "model_name": "LayoutModel",
      "state": {}
     },
     "ffa1c97c086d4cac9c5aabee79737cdc": {
      "model_module": "@jupyter-widgets/base",
      "model_module_version": "2.0.0",
      "model_name": "LayoutModel",
      "state": {}
     }
    },
    "version_major": 2,
    "version_minor": 0
   }
  }
 },
 "nbformat": 4,
 "nbformat_minor": 5
}
